{
 "cells": [
  {
   "cell_type": "code",
   "execution_count": 2,
   "metadata": {
    "collapsed": false
   },
   "outputs": [],
   "source": [
    "import pandas as pd\n",
    "import numpy as np\n",
    "import matplotlib.pyplot as plt\n",
    "from functools import partial\n",
    "import multiprocessing as mp\n",
    "import random\n",
    "from time import perf_counter\n",
    "\n",
    "#from utils import Labels"
   ]
  },
  {
   "cell_type": "code",
   "execution_count": 2,
   "metadata": {
    "collapsed": true
   },
   "outputs": [],
   "source": [
    "# Define path names here\n",
    "image_path_prefix = 'data/Category and Attribute Prediction Benchmark/Img/Img/'\n",
    "image_to_category = 'data/Category and Attribute Prediction Benchmark/Anno/list_category_img.txt'\n",
    "img_net_class_path = 'data/ImageNetClasses/imagenet1000_clsid_to_human.txt'\n",
    "deep_fash_class_path = 'data/Category and Attribute Prediction Benchmark/Anno/list_category_cloth.txt'\n",
    "\n",
    "n_images_loaded = -1 # -1 loads all"
   ]
  },
  {
   "cell_type": "code",
   "execution_count": null,
   "metadata": {
    "collapsed": true
   },
   "outputs": [],
   "source": [
    "## Transfer learning utilities\n",
    "# These routines allow a layer from farther back in a model to be replaced \n",
    "# with an input layer so precalculated bottleneck features can be fed in\n",
    "from keras.models import clone_model\n",
    "from keras.models import Model\n",
    "from keras.layers import Dense, InputLayer\n",
    "\n",
    "def sub_in_layer(model,sub_out_name,sub_in_layer):\n",
    "    \"\"\"\n",
    "    Replaces a node with an input layer and updates the model graph to reflect that\n",
    "    change. Currently does not remove references to replaced nodes - prevents rerunning.\n",
    "    Unable to handle layers with mulitple inbound_nodes. \n",
    "    \"\"\"\n",
    "    head_dict = { sub_out_name : sub_in_layer.output } # Assumes one output\n",
    "    sub_out_layer = model.get_layer(sub_out_name)\n",
    "    out_node_list = [ node for node in sub_out_layer.outbound_nodes ]\n",
    "    sub_out_layer.outbound_nodes = []\n",
    "    continue_loop = True\n",
    "    while out_node_list and continue_loop:\n",
    "        continue_loop = False\n",
    "        for node in out_node_list[::-1]:\n",
    "            modified = update_graph(model,head_dict,node,out_node_list)\n",
    "            continue_loop = continue_loop | modified\n",
    "        if not continue_loop:\n",
    "            print('Could not find reference to inbound layer. This likely means'\n",
    "                 ' output from a layer before the subbed-in layer is required. ')\n",
    "    \n",
    "def update_graph(model,head_dict,out_node,out_node_list):\n",
    "    \"\"\"Update graph layers to take output from tensors specified in head_dict\"\"\"\n",
    "    if input_ref_present(out_node,head_dict):\n",
    "        new_out_nodes = relink_graph(model,out_node,head_dict)\n",
    "        out_node_list.remove(out_node)\n",
    "        new_out_nodes = [node for node in new_out_nodes if node not in out_node_list]\n",
    "        out_node_list += new_out_nodes\n",
    "        return True\n",
    "    return False\n",
    "\n",
    "def input_ref_present(out_node,head_dict):\n",
    "    return all( layer_name in head_dict.keys() \n",
    "               for layer_name in out_node.get_config()['inbound_layers'] )\n",
    "                    \n",
    "def relink_graph(model,out_node,head_dict):\n",
    "    \"\"\"\n",
    "    Feed output of inbound_layers specified in out_node to the receiving layer. \n",
    "    Associate the receiving layer's name with its new output in head_dict. \n",
    "    Return the receiving layer's outbound nodes to continue relinking graph. \n",
    "    \"\"\"\n",
    "    new_link_name = out_node.get_config()['outbound_layer']\n",
    "    new_link_layer = model.get_layer(new_link_name)\n",
    "    if len(new_link_layer.inbound_nodes) > 1:\n",
    "        raise NotImplementedError('Layer {} used in multiple places'.format(new_link_name)\n",
    "                                  + ' (has multiple inbound_nodes). Unable to relink graph.')\n",
    "    new_link_layer.inbound_nodes = []\n",
    "    if len(out_node.get_config()['inbound_layers']) == 1:\n",
    "        x = new_link_layer(head_dict[out_node.get_config()['inbound_layers'][0]])\n",
    "    else:\n",
    "        inbound_list = [ head_dict[l] for l in out_node.get_config()['inbound_layers'] ]\n",
    "        x = new_link_layer(inbound_list)\n",
    "    head_dict[new_link_name] = x\n",
    "    new_out_nodes = [ node for node in new_link_layer.outbound_nodes ]\n",
    "    new_link_layer.outbound_nodes = []\n",
    "    return new_out_nodes\n",
    "\n",
    "def model_top_at_layer(model,layer_name):\n",
    "    \"\"\"\n",
    "    Returns the part of model from layer layer_name until the output layer\n",
    "    with layer layer_name replaced by an InputLayer\n",
    "    \"\"\"\n",
    "    mod_cop = clone_model(model)\n",
    "    mod_cop.set_weights(model.get_weights())\n",
    "    \n",
    "    inp = InputLayer(model.get_layer(layer_name).output_shape[1:])\n",
    "    sub_in_layer(mod_cop,layer_name,inp)\n",
    "    x = mod_cop.layers[-1].get_output_at(1)\n",
    "    \n",
    "    return Model(inp.input,x)\n",
    "\n",
    "def replace_out_layer(model,num_outputs):\n",
    "    \"\"\"Replaces the last layer of a model with a dense layer with num_outputs outputs\"\"\"\n",
    "    model.layers.pop()\n",
    "    model.layers[-1].outbound_nodes = []\n",
    "    \n",
    "    new_layer = Dense(num_outputs)\n",
    "    new_out = new_layer(model.layers[-1].get_output_at(1))\n",
    "    new_model = Model(model.input,new_out)\n",
    "    return new_model\n",
    "\n",
    "def load_model_top(model,name):\n",
    "    max_layer_dict = {\n",
    "    'resnet' : 'activation_46',\n",
    "    'inception_v3' : 'mixed9',\n",
    "    'xception' : 'add_28',\n",
    "    }\n",
    "    model_top = model_top_at_layer(model,max_layer_dict[name])\n",
    "    replace_out_layer(model_top,10)\n",
    "    model_top.load()"
   ]
  },
  {
   "cell_type": "code",
   "execution_count": 3,
   "metadata": {
    "collapsed": false
   },
   "outputs": [
    {
     "name": "stderr",
     "output_type": "stream",
     "text": [
      "Using TensorFlow backend.\n"
     ]
    }
   ],
   "source": [
    "## Load the classifiers\n",
    "from keras.applications.resnet50 import ResNet50\n",
    "#from keras.applications.vgg19 import VGG19\n",
    "from keras.applications.inception_v3 import InceptionV3\n",
    "from keras.applications.xception import Xception\n",
    "\n",
    "res50 = ResNet50(weights='imagenet')\n",
    "incv3 = InceptionV3(weights='imagenet')\n",
    "xcept = Xception(weights='imagenet')\n",
    "\n",
    "model_dict = {\n",
    "        'resnet' : res50,\n",
    "        'inception_v3' : incv3,\n",
    "        'xception' : xcept,\n",
    "    }\n",
    "\n",
    "#for name, model in model_dict.items():\n",
    "    "
   ]
  },
  {
   "cell_type": "code",
   "execution_count": 78,
   "metadata": {
    "collapsed": false
   },
   "outputs": [],
   "source": [
    "from skimage.segmentation import slic # produces integer mask\n",
    "from skimage.future.graph import rag_mean_color, cut_normalized\n",
    "from keras.applications.resnet50 import ResNet50\n",
    "\n",
    "    # Each super pixel will be a dictionary containing:\n",
    "    #   - Location info (bool mask for simplicity)\n",
    "    #   - Average color RGB\n",
    "    #   - Indices of neighboring super pixels\n",
    "    # The full list of super pixels will be contained in a list.\n",
    "    # The indices of this list are the indices referenced above\n",
    "\n",
    "    # This thing is a major memory hog. Each image gets copied\n",
    "    # multiple (3?) times and a copy of the model instances must \n",
    "    # be loaded for each process\n",
    "    # That'll be really slow too. Need a way to share model between processes\n",
    "    # This: https://stackoverflow.com/questions/25477470\n",
    "    # seems to say I can use a manager class, but need to be careful what's in\n",
    "    # my global namespace and not touch too much as copy-on-write can still \n",
    "    # raise mem requirements\n",
    "    \n",
    "class ImageSegmenterFactory():\n",
    "    \"\"\"\n",
    "    Stores configuration information for ImageSegmenters and allows\n",
    "    processing a list of images in parallel using them\n",
    "    \"\"\"\n",
    "#    __slots__ = ('null_pattern','n_super_pixels','compactness','max_iters')\n",
    "\n",
    "    def __init__(self,null_pattern,n_super_pixels,compactness,\n",
    "                 low_threshold=1e-8,high_threshold=100,max_iters=10):\n",
    "        \"\"\"\n",
    "        null_pattern - Image that replaces the portions of the segmented image deemed irrelevant\n",
    "        n_super_pixels - Roughly translates to the number of super pixels normalized cuts acts on\n",
    "        compactness - The larger this is the more spatially localized super pixels are\n",
    "        low_threshold - The threshold argument for sklearns's cut_normalized will not dip below this\n",
    "        high_threshold - The threshold argument for sklearns's cut_normalized will not go above this\n",
    "        max_iters - The number of times to refine the run cut_normalized's\n",
    "        \"\"\"\n",
    "        self.config = {\n",
    "            'null_pattern' : null_pattern,\n",
    "            'n_super_pixels' : n_super_pixels,\n",
    "            'compactness' : compactness,\n",
    "            'low_threshold' : low_threshold,\n",
    "            'high_threshold' : high_threshold,\n",
    "            'max_iters' : max_iters\n",
    "        }\n",
    "\n",
    "    @staticmethod\n",
    "    def get_pixel_mask(proxy_model,image_preproc,config,q,image):\n",
    "        q.put('About to go in')\n",
    "        segmenter = ImageSegmenter(proxy_model[0],image_preproc,config,q,image)\n",
    "        q.put('Made object')\n",
    "        segmenter.segment_image()\n",
    "        return segmenter.pixel_mask\n",
    "    \n",
    "    @staticmethod\n",
    "    def load_model(model_path):\n",
    "        if model_path == 'resnet':\n",
    "            return res50\n",
    "        raise NotImplementedError\n",
    "    \n",
    "    @staticmethod\n",
    "    def log_printer(path,q):\n",
    "        with open(path,'w') as out:\n",
    "            out.write('Getting Started\\n')\n",
    "            out.flush()\n",
    "            while True:\n",
    "                o = q.get()\n",
    "                if o == 'Done':\n",
    "                    break\n",
    "                out.write(o+'\\n')\n",
    "                out.flush()\n",
    "    \n",
    "    def segment_images(self,model_path,image_preproc,images,log_path):\n",
    "        num_cpus = mp.cpu_count()\n",
    "        proc_pool = mp.Pool(num_cpus - 1)\n",
    "        \n",
    "        # Set up a log file to monitor progress\n",
    "        man = mp.Manager()\n",
    "        q = man.Queue()\n",
    "        proc_pool.apply_async(self.log_printer,(log_path,q))\n",
    "        \n",
    "        # Allow dispatched ImageSegmenter objects to access a single model instance\n",
    "        model = self.load_model(model_path)\n",
    "        #proxy_model = man.list([model])\n",
    "        \n",
    "        segment_masks = []\n",
    "        for img in images:\n",
    "            segment_masks.append(self.get_pixel_mask([model],image_preproc,self.config,q,img))\n",
    "        #segment_masks = proc_pool.map(partial(self.get_pixel_mask,proxy_model,image_preproc,self.config,q),images)\n",
    "        return segment_masks"
   ]
  },
  {
   "cell_type": "code",
   "execution_count": 79,
   "metadata": {
    "collapsed": false
   },
   "outputs": [],
   "source": [
    "class ImageSegmenter():\n",
    "    \"\"\"\n",
    "    This class attempts to segment an image into object and non-object regions\n",
    "    using a pretrained classifier to gauge the quality of its segmentation\n",
    "    \"\"\"\n",
    "#    __slots__ = ('image','masked_image','null_pattern',\n",
    "#                 'max_iters','pixel_mask','rag')\n",
    "        \n",
    "    def __init__(self,model,image_preproc,config,q,image):\n",
    "        \"\"\"Store the image info needed \"\"\"\n",
    "        q.put('So it inits')\n",
    "        self.model = model\n",
    "        self.image_preproc = image_preproc\n",
    "        self.q = q\n",
    "        q.put('init assign done 1')\n",
    "        \n",
    "        self.actual_class = self.predict_class(self.model,self.image_preproc,image.astype(np.float16),self.q)\n",
    "        \n",
    "        self.image = image # Will be iteratively masked\n",
    "        self.pixel_mask = np.ones(image.shape[:2],dtype=bool) # False means use null pattern\n",
    "        self.super_pixels = slic(image,config['n_super_pixels'],config['compactness'])\n",
    "        self.rag = rag_mean_color(image, self.super_pixels, mode='similarity')\n",
    "        q.put('init assign done 2')\n",
    "        \n",
    "        self.null_pattern = config['null_pattern']\n",
    "        self.max_iters = config['max_iters']\n",
    "        self.low_threshold = np.log10(config['low_threshold'])\n",
    "        self.high_threshold = np.log10(config['high_threshold'])\n",
    "        q.put('init assign done 3')\n",
    "    \n",
    "    def segment_image(self):\n",
    "        \"\"\"\n",
    "        Calculate a pixel_mask specifying the location of the object in this \n",
    "        class' image. \n",
    "        \"\"\"\n",
    "        if self.actual_class == -1:\n",
    "            self.pixel_mask = np.zeros(self.image.shape,dtype=bool)\n",
    "            return\n",
    "        self.q.put('So it begins')\n",
    "        self._raise_low_threshold()\n",
    "        self.q.put('So it has risen')\n",
    "        self._lower_high_threshold()\n",
    "        self.q.put('So it has lowered')\n",
    "        self._clean_segmentation()\n",
    "    \n",
    "    @staticmethod\n",
    "    def mask_image(image,null_pattern,pixel_mask):\n",
    "        \"\"\"\n",
    "        Replaces masked portions of image with values of null_pattern.\n",
    "        Last dimension must be channel. True values in mask mean show image. \n",
    "        \"\"\"\n",
    "        masked_image = (~pixel_mask.T*null_pattern.T).T + \\\n",
    "                         (pixel_mask.T*image.T).T\n",
    "        return masked_image\n",
    "    \n",
    "    @staticmethod\n",
    "    def predict_class(model,image_preproc,image,q):\n",
    "        \"\"\"\n",
    "        Returns the predicted class for this image.\n",
    "        \n",
    "        Predicted class satisfies the criteria:\n",
    "        - Has the highest predicted probability\n",
    "        - Has a probability 1.5 times higher than expected from randomly guessing\n",
    "        \n",
    "        The 1.5 times value is arbitrary\n",
    "        \"\"\"\n",
    "#        return (random.random()*2 + 1)//2\n",
    "        \n",
    "        image = image_preproc(image)\n",
    "        q.put('Predicting'+str(model))\n",
    "        pred = model.predict(np.stack([image]))\n",
    "        pred = np.ravel(pred)\n",
    "        pred_class = np.argmax(pred)\n",
    "        q.put('Predicted '+str(pred_class)+' at '+str(pred[pred_class]))\n",
    "        if pred[pred_class] > 1.5*(1/len(pred)):\n",
    "            return pred_class\n",
    "        return -1\n",
    "        \n",
    "    @staticmethod\n",
    "    def _adjust_threshold(threshold,cur_thresh,too_high,inc_rate,overshot):\n",
    "        \"\"\"\n",
    "        Adjust the lower threshold in a way that ensures we never attempt the same threshold twice\n",
    "        and iteratively approach the threshold yielding the smallest segmentation the\n",
    "        classifier still recognizes as the correct object\n",
    "        \"\"\"\n",
    "        if too_high: # Don't jump above the lower bound so much\n",
    "            inc_rate = inc_rate/2\n",
    "            overshot = True\n",
    "        elif overshot: # Raise the lower bound but decrease the inc_rate\n",
    "            threshold = cur_thresh\n",
    "            inc_rate = inc_rate/2 # If we didn't lower inc_rate we'd be repeating a value\n",
    "        else: # Raise the lower bound\n",
    "            threshold = cur_thresh\n",
    "        return threshold, inc_rate, overshot\n",
    "        \n",
    "    def _raise_low_threshold(self):\n",
    "        \"\"\"\n",
    "        This function attempts to raise the low_threshold limit to \n",
    "        limit the areas in the picture considered part of the object\n",
    "        \"\"\"\n",
    "        inc_rate = 1; overshot = False\n",
    "        for i in range(self.max_iters):\n",
    "            self.q.put('Raise number '+str(i))\n",
    "            cur_thresh = self.low_threshold + inc_rate\n",
    "            norm_cuts = cut_normalized(self.super_pixels,self.rag,thresh=10**cur_thresh,in_place=False)\n",
    "            self.q.put('Finished norm_cuts at '+str(cur_thresh))\n",
    "            too_high = self._narrow_regions(norm_cuts)\n",
    "            self.q.put('Narrowed regions: '+str(too_high))\n",
    "            self.low_threshold, inc_rate, overshot = self._adjust_threshold(self.low_threshold,cur_thresh,\n",
    "                                                                            too_high,inc_rate,overshot)\n",
    "            self.q.put('Summary: '+', '.join([str(self.low_threshold),str(inc_rate),str(overshot)]))\n",
    "        # Lock in the most refined pixel_mask found\n",
    "        self.image = self.mask_image(self.image,self.null_pattern,self.pixel_mask)\n",
    "\n",
    "    def _narrow_regions(self,norm_cuts):\n",
    "        \"\"\"\n",
    "        Test each normalized cuts region to see if the classifier recognizes it as\n",
    "        the correct class. \n",
    "        \"\"\"\n",
    "        norm_cuts = self.pixel_mask * (norm_cuts + 1) # Ignore regions deemed irrelevant\n",
    "        relevant_regions = []\n",
    "        self.q.put('Starting to narrow '+str(len(np.unique(norm_cuts))))\n",
    "        for r in np.unique(norm_cuts):\n",
    "            # Skip the nulled region\n",
    "            if r == 0:\n",
    "                continue\n",
    "            masked_image = self.mask_image(self.image,self.null_pattern,norm_cuts == r)\n",
    "            self.q.put('Masked region '+str(r))\n",
    "            pred_class = self.predict_class(self.model,self.image_preproc,masked_image.astype(np.float16),self.q)\n",
    "            self.q.put('Predicted on '+str(r))\n",
    "            if pred_class == self.actual_class:\n",
    "                relevant_regions.append(r)\n",
    "        self.q.put('Num of relevant: '+str(len(relevant_regions)))\n",
    "        if len(relevant_regions) == 1:\n",
    "            # Don't use intersection in case correct region area fluctuates\n",
    "            # and region grows too small\n",
    "            self.pixel_mask = (norm_cuts == relevant_regions[0])\n",
    "            return False\n",
    "        return True\n",
    "    \n",
    "    def _lower_high_threshold(self):\n",
    "        \"\"\"\n",
    "        This function attempts to lower the high_threshold limit to\n",
    "        shave off the small regions that don't belong to the object\n",
    "        but get lumped together with it.\n",
    "        \n",
    "        Note that the image super pixels and rag are not recalculated -\n",
    "        we do not want the null pattern to blend with the image. \n",
    "        \"\"\"\n",
    "        dec_rate = 1; overshot = False\n",
    "        # If no iters or unable to refine high_threshold, relevant regions are True pixel_mask entries\n",
    "        best_relevant_regions = [1]; best_reg_def = self.pixel_mask\n",
    "        for i in range(self.max_iters):\n",
    "            self.q.put('Lower number '+str(i))\n",
    "            cur_thresh = self.high_threshold - dec_rate\n",
    "            norm_cuts = cut_normalized(self.super_pixels,self.rag,thresh=10**cur_thresh,in_place=False)\n",
    "            self.q.put('Cut norm at '+str(cur_thresh))\n",
    "            too_low, relevant_regions = self._refine_regions(norm_cuts)\n",
    "            if not too_low:\n",
    "                best_relevant_regions = relevant_regions\n",
    "                best_reg_def = norm_cuts\n",
    "            self.high_threshold, dec_rate, overshot = self._adjust_threshold(self.high_threshold,cur_thresh,\n",
    "                                                                             too_low,dec_rate,overshot)\n",
    "            self.q.put('Summary: '+', '.join([str(self.high_threshold),str(dec_rate),str(overshot)]))\n",
    "        best_relevant_regions = relevant_regions\n",
    "        best_reg_def = norm_cuts\n",
    "        # Lock in the most refined pixel_mask found\n",
    "        self.pixel_mask = np.zeros(self.pixel_mask.shape,dtype=bool)\n",
    "        # The previously excluded regions will not be in the best_relevant_regions list\n",
    "        for r in best_relevant_regions:\n",
    "            self.pixel_mask = self.pixel_mask | (best_reg_def == r)\n",
    "    \n",
    "    def _refine_regions(self,norm_cuts):\n",
    "        \"\"\"\n",
    "        If removing a region, causes a misclassification that region\n",
    "        is deemed part of the object and we have segments that are too\n",
    "        big. \n",
    "        \n",
    "        I expect this will cause the object to be seen as only small\n",
    "        chunks. A more accurate (and more computationally efficient) approach\n",
    "        might be to do the region narrowing and then slightly oversegment from \n",
    "        there. Will attempt this first. \n",
    "        \"\"\"\n",
    "        norm_cuts = self.pixel_mask * (norm_cuts + 1) # Ignore regions deemed irrelevant\n",
    "        relevant_regions = []\n",
    "        for r in np.unique(norm_cuts):\n",
    "            # Skip the nulled region\n",
    "            if r == 0:\n",
    "                continue\n",
    "            # Remove only the considered region (and the area already deemed irrelevant)\n",
    "            masked_image = self.mask_image(self.image,self.null_pattern,norm_cuts != r)\n",
    "            pred_class = self.predict_class(self.model,self.image_preproc,masked_image.astype(np.float16),self.q)\n",
    "            if pred_class == self.actual_class:\n",
    "                relevant_regions.append(r)\n",
    "        self.q.put('Found rel regions '+str(len(relevant_regions))+' of '+str(len(np.unique(norm_cuts))))\n",
    "        return len(relevant_regions) != 0, relevant_regions\n",
    "    \n",
    "    def _clean_segmentation(self):\n",
    "        \"\"\"\n",
    "        Attempts to remove small gaps in the pixel mask to make the image segmentation look\n",
    "        more natural.\n",
    "        \"\"\"\n",
    "        pass"
   ]
  },
  {
   "cell_type": "code",
   "execution_count": 51,
   "metadata": {
    "collapsed": false
   },
   "outputs": [],
   "source": [
    "from skimage.color import label2rgb\n",
    "from skimage.io import imread, imshow\n",
    "from skimage.transform import rescale\n",
    "from keras.applications.resnet50 import ResNet50\n",
    "from keras.applications.resnet50 import preprocess_input as res_preproc\n",
    "\n",
    "res50 = ResNet50(weights='imagenet')\n",
    "image = imread('dog_test.jpeg')\n",
    "image = rescale(image,224/image.shape[0])\n",
    "image = image[:,90:314]\n",
    "img = np.copy(image)\n",
    "proc_image = res_preproc(image.astype(np.float64))"
   ]
  },
  {
   "cell_type": "code",
   "execution_count": 82,
   "metadata": {
    "collapsed": false
   },
   "outputs": [
    {
     "data": {
      "text/plain": [
       "True"
      ]
     },
     "execution_count": 82,
     "metadata": {},
     "output_type": "execute_result"
    }
   ],
   "source": [
    "(image == img).all()"
   ]
  },
  {
   "cell_type": "code",
   "execution_count": 55,
   "metadata": {
    "collapsed": false
   },
   "outputs": [
    {
     "name": "stdout",
     "output_type": "stream",
     "text": [
      "Predicting\n",
      "Predicted 916 at 0.243103\n"
     ]
    },
    {
     "data": {
      "text/plain": [
       "916"
      ]
     },
     "execution_count": 55,
     "metadata": {},
     "output_type": "execute_result"
    }
   ],
   "source": [
    "class DummyQueue():\n",
    "    def put(self,x):\n",
    "        print(x)\n",
    "q = DummyQueue()\n",
    "ImageSegmenter.predict_class(res50,res_preproc,image.astype(np.float32),q)"
   ]
  },
  {
   "cell_type": "code",
   "execution_count": 84,
   "metadata": {
    "collapsed": false
   },
   "outputs": [],
   "source": [
    "class Predicter():\n",
    "    def load_model(self,model_path):\n",
    "        if model_path == 'resnet':\n",
    "            self.model = ResNet50(weights='imagenet')\n",
    "            print(dir(self))\n",
    "            return\n",
    "        raise NotImplementedError\n",
    "        \n",
    "    def predict(self,image):\n",
    "        return self.model.predict(image)\n",
    "\n",
    "pred = Predicter()\n",
    "man = mp.Manager()\n",
    "#pred.load_model('resnet')\n",
    "prox_mod = man.list([pred])"
   ]
  },
  {
   "cell_type": "code",
   "execution_count": 47,
   "metadata": {
    "collapsed": false
   },
   "outputs": [],
   "source": [
    "from keras.models import Model\n",
    "from keras.layers import Lambda, InputLayer\n",
    "\n",
    "inp = InputLayer(image.shape)\n",
    "y = Lambda(new_preproc)(inp.output)\n",
    "mod = Model(inp.input,y)"
   ]
  },
  {
   "cell_type": "code",
   "execution_count": null,
   "metadata": {
    "collapsed": true
   },
   "outputs": [],
   "source": [
    "cut_normalized(self.super_pixels,self.rag,thresh=10**cur_thresh,in_place=False)"
   ]
  },
  {
   "cell_type": "code",
   "execution_count": 80,
   "metadata": {
    "collapsed": false
   },
   "outputs": [],
   "source": [
    "segmenter = ImageSegmenterFactory(np.zeros(image.shape,dtype=np.uint8),1000,100,\n",
    "                 low_threshold=1e-8,high_threshold=100,max_iters=10)"
   ]
  },
  {
   "cell_type": "code",
   "execution_count": 81,
   "metadata": {
    "collapsed": false
   },
   "outputs": [],
   "source": [
    "pix_mask = segmenter.segment_images('resnet',res_preproc,[image],'tmp_log')"
   ]
  },
  {
   "cell_type": "code",
   "execution_count": 47,
   "metadata": {
    "collapsed": false
   },
   "outputs": [
    {
     "data": {
      "text/plain": [
       "<matplotlib.image.AxesImage at 0x12d84d198>"
      ]
     },
     "execution_count": 47,
     "metadata": {},
     "output_type": "execute_result"
    },
    {
     "data": {
      "image/png": "[encoded data removed]",
      "text/plain": [
       "<matplotlib.figure.Figure at 0x1348ed668>"
      ]
     },
     "metadata": {},
     "output_type": "display_data"
    }
   ],
   "source": [
    "imshow((pix_mask[0].T*image.T).T)\n",
    "plt.show()"
   ]
  },
  {
   "cell_type": "code",
   "execution_count": 88,
   "metadata": {
    "collapsed": false
   },
   "outputs": [],
   "source": [
    "from skimage.segmentation import slic # produces integer mask\n",
    "from skimage.future.graph import rag_mean_color, cut_normalized\n",
    "from skimage.color import label2rgb\n",
    "from skimage.io import imread, imshow\n",
    "\n",
    "image = imread('test_img.jpg')\n",
    "pixel_mask = slic(image,1000,100)\n",
    "rag = rag_mean_color(image, pixel_mask, mode='similarity')\n",
    "cn = cut_normalized(pixel_mask,rag,thresh=5e-3,in_place=False)\n",
    "\n",
    "# region_labeled = label2rgb(sup_pixels, image, kind='avg')\n",
    "# imshow(region_labeled)\n",
    "# plt.show()"
   ]
  },
  {
   "cell_type": "code",
   "execution_count": 91,
   "metadata": {
    "collapsed": false
   },
   "outputs": [
    {
     "data": {
      "text/plain": [
       "(285, 250, 3)"
      ]
     },
     "execution_count": 91,
     "metadata": {},
     "output_type": "execute_result"
    }
   ],
   "source": [
    "cn.shape"
   ]
  },
  {
   "cell_type": "code",
   "execution_count": 87,
   "metadata": {
    "collapsed": true
   },
   "outputs": [],
   "source": [
    "edge_vals = np.zeros(len(rag.edges()))\n",
    "for i, e in enumerate(rag.edges()):\n",
    "    edge_vals[i] = rag.get_edge_data(*e)['weight']"
   ]
  },
  {
   "cell_type": "code",
   "execution_count": 100,
   "metadata": {
    "collapsed": true
   },
   "outputs": [],
   "source": [
    "thresh = 1e-20\n",
    "len_list = []\n",
    "for i in range(25):\n",
    "    cn = cut_normalized(pixel_mask,rag,thresh=thresh,in_place=False)\n",
    "    thresh *= 10\n",
    "    len_list.append((thresh,len(np.unique(cn))))"
   ]
  },
  {
   "cell_type": "code",
   "execution_count": 116,
   "metadata": {
    "collapsed": false
   },
   "outputs": [
    {
     "data": {
      "text/plain": [
       "[<matplotlib.lines.Line2D at 0x11cf7e748>]"
      ]
     },
     "execution_count": 116,
     "metadata": {},
     "output_type": "execute_result"
    },
    {
     "data": {
      "image/png": "[encoded data removed]",
      "text/plain": [
       "<matplotlib.figure.Figure at 0x11bcb9860>"
      ]
     },
     "metadata": {},
     "output_type": "display_data"
    }
   ],
   "source": [
    "plt.plot(np.sort(edge_vals))\n",
    "plt.show()"
   ]
  },
  {
   "cell_type": "code",
   "execution_count": 109,
   "metadata": {
    "collapsed": false
   },
   "outputs": [
    {
     "name": "stdout",
     "output_type": "stream",
     "text": [
      "(25, 2)\n"
     ]
    },
    {
     "data": {
      "text/plain": [
       "[<matplotlib.lines.Line2D at 0x11c481e10>]"
      ]
     },
     "execution_count": 109,
     "metadata": {},
     "output_type": "execute_result"
    },
    {
     "data": {
      "image/png": "[encoded data removed]",
      "text/plain": [
       "<matplotlib.figure.Figure at 0x11bcbab70>"
      ]
     },
     "metadata": {},
     "output_type": "display_data"
    }
   ],
   "source": [
    "len_arr = np.array(len_list)\n",
    "print(len_arr.shape)\n",
    "plt.plot(np.log10(len_arr[:,0]),len_arr[:,1])\n",
    "plt.show()"
   ]
  },
  {
   "cell_type": "code",
   "execution_count": 88,
   "metadata": {
    "collapsed": false
   },
   "outputs": [
    {
     "data": {
      "text/plain": [
       "4.052683705439187e-127"
      ]
     },
     "execution_count": 88,
     "metadata": {},
     "output_type": "execute_result"
    }
   ],
   "source": [
    "edge_vals.min()"
   ]
  },
  {
   "cell_type": "code",
   "execution_count": 99,
   "metadata": {
    "collapsed": false
   },
   "outputs": [
    {
     "data": {
      "text/plain": [
       "1"
      ]
     },
     "execution_count": 99,
     "metadata": {},
     "output_type": "execute_result"
    }
   ],
   "source": [
    "len(np.unique(cn))"
   ]
  },
  {
   "cell_type": "code",
   "execution_count": 149,
   "metadata": {
    "collapsed": false
   },
   "outputs": [
    {
     "data": {
      "text/plain": [
       "(285, 250)"
      ]
     },
     "execution_count": 149,
     "metadata": {},
     "output_type": "execute_result"
    }
   ],
   "source": [
    "cn.shape"
   ]
  },
  {
   "cell_type": "code",
   "execution_count": 178,
   "metadata": {
    "collapsed": false
   },
   "outputs": [
    {
     "name": "stderr",
     "output_type": "stream",
     "text": [
      "/Users/magee/anaconda/lib/python3.6/site-packages/skimage/io/_plugins/matplotlib_plugin.py:77: UserWarning: Float image out of standard range; displaying image with stretched contrast.\n",
      "  warn(\"Float image out of standard range; displaying \"\n"
     ]
    },
    {
     "data": {
      "text/plain": [
       "<matplotlib.image.AxesImage at 0x121a020f0>"
      ]
     },
     "execution_count": 178,
     "metadata": {},
     "output_type": "execute_result"
    },
    {
     "data": {
      "image/png": "[encoded data removed]",
      "text/plain": [
       "<matplotlib.figure.Figure at 0x12108c908>"
      ]
     },
     "metadata": {},
     "output_type": "display_data"
    }
   ],
   "source": [
    "region_labeled = label2rgb(cn, np.zeros(image.shape) + 255, kind='overlay')\n",
    "#region_labeled = label2rgb(cn, image, kind='avg')\n",
    "imshow(region_labeled)\n",
    "plt.show()"
   ]
  },
  {
   "cell_type": "code",
   "execution_count": 63,
   "metadata": {
    "collapsed": false
   },
   "outputs": [
    {
     "data": {
      "text/plain": [
       "8228"
      ]
     },
     "execution_count": 63,
     "metadata": {},
     "output_type": "execute_result"
    }
   ],
   "source": [
    "edge_count = 0\n",
    "for l in rag.adjacency_list():\n",
    "    edge_count += len(l)\n",
    "edge_count"
   ]
  },
  {
   "cell_type": "code",
   "execution_count": 20,
   "metadata": {
    "collapsed": false
   },
   "outputs": [
    {
     "data": {
      "text/plain": [
       "array([1, 2, 3])"
      ]
     },
     "execution_count": 20,
     "metadata": {},
     "output_type": "execute_result"
    }
   ],
   "source": [
    "np.copy(np.unique(np.array([[1,2],[3,1]])))"
   ]
  },
  {
   "cell_type": "code",
   "execution_count": null,
   "metadata": {
    "collapsed": true
   },
   "outputs": [],
   "source": [
    "## Create a bool mask for each image and class following the algorithm described in the proposal\n"
   ]
  },
  {
   "cell_type": "code",
   "execution_count": null,
   "metadata": {
    "collapsed": true
   },
   "outputs": [],
   "source": [
    "## Compare the bounding boxes from the masks to reference bounding boxes\n",
    "# Intersection over Union\n",
    "\n",
    "# Center Correctness"
   ]
  }
 ],
 "metadata": {
  "kernelspec": {
   "display_name": "Python 3",
   "language": "python",
   "name": "python3"
  },
  "language_info": {
   "codemirror_mode": {
    "name": "ipython",
    "version": 3
   },
   "file_extension": ".py",
   "mimetype": "text/x-python",
   "name": "python",
   "nbconvert_exporter": "python",
   "pygments_lexer": "ipython3",
   "version": "3.6.0"
  }
 },
 "nbformat": 4,
 "nbformat_minor": 2
}
